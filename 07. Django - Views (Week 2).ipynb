{
 "cells": [
  {
   "cell_type": "markdown",
   "id": "fe22dc68",
   "metadata": {},
   "source": [
    "## Views\n",
    "\n",
    "\n",
    "In Django, a view is a function designed to handle a web request and return a web response such as an HTML document.\n",
    "\n",
    "\n",
    "\n"
   ]
  },
  {
   "cell_type": "markdown",
   "id": "406effc7",
   "metadata": {},
   "source": []
  },
  {
   "cell_type": "markdown",
   "id": "7dafa692",
   "metadata": {},
   "source": [
    "## Misc:\n",
    "\n",
    "Website is a collection of related web pages that may contain text, images, audio and video. The first page of a website is called home page. Each website has specific internet address (URL) that you need to enter in your browser to access a website.\n",
    "\n",
    "### Static And Dynamic Sites\n",
    "\n",
    "### Static\n",
    "\n",
    "A static website is made up of a fixed number of pre-built files stored on a web server. These files are written in HTML, CSS, and JavaScript\n",
    "\n",
    "### Dynamic Sites\n",
    "\n",
    "There’s a simple way to determine if a site is dynamic. If you can interact with it, it’s a dynamic site. For example, dynamic sites allow you to create a user profile, comment on a post, or make a reservation."
   ]
  },
  {
   "cell_type": "code",
   "execution_count": null,
   "id": "fba5e8cc",
   "metadata": {},
   "outputs": [],
   "source": []
  }
 ],
 "metadata": {
  "kernelspec": {
   "display_name": "Python 3 (ipykernel)",
   "language": "python",
   "name": "python3"
  },
  "language_info": {
   "codemirror_mode": {
    "name": "ipython",
    "version": 3
   },
   "file_extension": ".py",
   "mimetype": "text/x-python",
   "name": "python",
   "nbconvert_exporter": "python",
   "pygments_lexer": "ipython3",
   "version": "3.9.13"
  }
 },
 "nbformat": 4,
 "nbformat_minor": 5
}
