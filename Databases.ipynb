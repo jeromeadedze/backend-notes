{
 "cells": [
  {
   "cell_type": "markdown",
   "id": "b58d7b2d",
   "metadata": {},
   "source": [
    "## Database\n",
    "\n",
    "What is data?\n",
    "\n",
    "In basic terms, data is facts and figures about anything. \n",
    "\n",
    "For example, if data were collected on a person, then that data might include their \n",
    "\n",
    "- name, \n",
    "- age,\n",
    "- email, and \n",
    "- date of birth. \n",
    "\n",
    "Or the data could be facts and figures related to an online purchase.\n",
    "\n",
    "This could be the \n",
    "\n",
    "- order number, \n",
    "- description, \n",
    "- order quantity,\n",
    "- date, and\n",
    "- the customer's email. \n",
    "\n",
    "Data is crucial for individuals as well as organizations. \n",
    "Where's all this data stored? In our digital world, data is no longer stored in manual files. Instead, developers use something called databases. \n",
    "\n",
    "***A database is a form of electronic storage in which data is organized systematically. It stores and manipulates data electronically to make it more manageable, efficient, and secure.*** \n",
    "\n",
    "To give an idea of databases in a real world context, let's briefly describe some typical use cases. \n",
    "\n",
    "For example:\n",
    "- your bank uses a database to store data for customers, bank accounts and transactions, \n",
    "- hospital stores, patient data staff data, laboratory data and more. \n",
    "- And an online store retains your profile information along with your shopping history and accounting transactions. "
   ]
  },
  {
   "cell_type": "code",
   "execution_count": null,
   "id": "92372c5e",
   "metadata": {},
   "outputs": [],
   "source": []
  }
 ],
 "metadata": {
  "kernelspec": {
   "display_name": "Python 3 (ipykernel)",
   "language": "python",
   "name": "python3"
  },
  "language_info": {
   "codemirror_mode": {
    "name": "ipython",
    "version": 3
   },
   "file_extension": ".py",
   "mimetype": "text/x-python",
   "name": "python",
   "nbconvert_exporter": "python",
   "pygments_lexer": "ipython3",
   "version": "3.9.13"
  }
 },
 "nbformat": 4,
 "nbformat_minor": 5
}
